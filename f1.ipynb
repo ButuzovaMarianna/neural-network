{
 "cells": [
  {
   "cell_type": "markdown",
   "metadata": {},
   "source": [
    "# Загрузка данных"
   ]
  },
  {
   "cell_type": "code",
   "execution_count": 43,
   "metadata": {},
   "outputs": [],
   "source": [
    "import csv\n",
    "import numpy as np\n",
    "import pandas as pd\n",
    "import tensorflow as tf\n",
    "from tensorflow import keras"
   ]
  },
  {
   "cell_type": "markdown",
   "metadata": {},
   "source": [
    "# Логистическая регрессия"
   ]
  },
  {
   "cell_type": "code",
   "execution_count": 58,
   "metadata": {},
   "outputs": [],
   "source": [
    "test_mnist = pd.read_csv('fashion-mnist_test.csv')\n",
    "train_mnist = pd.read_csv('fashion-mnist_train.csv')"
   ]
  },
  {
   "cell_type": "code",
   "execution_count": 45,
   "metadata": {},
   "outputs": [],
   "source": [
    "train_mnist.drop('label', axis='columns', inplace=True)\n",
    "test_mnist.drop('label', axis='columns', inplace=True)"
   ]
  },
  {
   "cell_type": "code",
   "execution_count": 46,
   "metadata": {},
   "outputs": [],
   "source": [
    "y_test_1 = test_mnist.iloc[:, 0]\n",
    "y_train_1 = train_mnist.iloc[:, 0]"
   ]
  },
  {
   "cell_type": "code",
   "execution_count": 47,
   "metadata": {},
   "outputs": [],
   "source": [
    "x_train_1 = train_mnist.iloc[:, :]\n",
    "x_test_1 = test_mnist.iloc[:, :]"
   ]
  },
  {
   "cell_type": "code",
   "execution_count": 48,
   "metadata": {},
   "outputs": [],
   "source": [
    "from sklearn.preprocessing import MinMaxScaler\n",
    "normalize = MinMaxScaler()\n",
    "x_train_1 = normalize.fit_transform(x_train_1)\n",
    "x_test_1 = normalize.fit_transform(x_test_1)\n",
    "import tensorflow as tf\n",
    "from tensorflow import keras"
   ]
  },
  {
   "cell_type": "code",
   "execution_count": 121,
   "metadata": {},
   "outputs": [],
   "source": [
    "model_4 = keras.models.Sequential([\n",
    "    keras.layers.Dense(256,activation='relu' , input_shape=(784,)),\n",
    "    keras.layers.Dense(200, activation='relu'),\n",
    "    keras.layers.Dense(10, activation='softmax')\n",
    "])"
   ]
  },
  {
   "cell_type": "code",
   "execution_count": 122,
   "metadata": {},
   "outputs": [
    {
     "name": "stdout",
     "output_type": "stream",
     "text": [
      "Model: \"sequential_9\"\n",
      "_________________________________________________________________\n",
      "Layer (type)                 Output Shape              Param #   \n",
      "=================================================================\n",
      "dense_21 (Dense)             (None, 200)               157000    \n",
      "_________________________________________________________________\n",
      "dense_22 (Dense)             (None, 200)               40200     \n",
      "_________________________________________________________________\n",
      "dense_23 (Dense)             (None, 10)                2010      \n",
      "=================================================================\n",
      "Total params: 199,210\n",
      "Trainable params: 199,210\n",
      "Non-trainable params: 0\n",
      "_________________________________________________________________\n"
     ]
    }
   ],
   "source": [
    "model_4.summary()"
   ]
  },
  {
   "cell_type": "code",
   "execution_count": 123,
   "metadata": {},
   "outputs": [],
   "source": [
    "model_4.compile(loss='mean_squared_error', optimizer='sgd', metrics=['accuracy'])\n",
    "#'mean_squared_error'"
   ]
  },
  {
   "cell_type": "code",
   "execution_count": 124,
   "metadata": {},
   "outputs": [
    {
     "name": "stdout",
     "output_type": "stream",
     "text": [
      "Epoch 1/10\n",
      "1500/1500 [==============================] - 4s 3ms/step - loss: 0.0166 - accuracy: 0.2071 - val_loss: 0.0107 - val_accuracy: 0.1093\n",
      "Epoch 2/10\n",
      "1500/1500 [==============================] - 4s 2ms/step - loss: 0.0215 - accuracy: 0.1080 - val_loss: 0.0106 - val_accuracy: 0.1012\n",
      "Epoch 3/10\n",
      "1500/1500 [==============================] - 4s 2ms/step - loss: 0.0143 - accuracy: 0.1044 - val_loss: 0.0106 - val_accuracy: 0.1053\n",
      "Epoch 4/10\n",
      "1500/1500 [==============================] - 4s 2ms/step - loss: 0.0210 - accuracy: 0.1053 - val_loss: 0.0106 - val_accuracy: 0.1085\n",
      "Epoch 5/10\n",
      "1500/1500 [==============================] - 3s 2ms/step - loss: 0.0443 - accuracy: 0.1087 - val_loss: 0.0105 - val_accuracy: 0.1111\n",
      "Epoch 6/10\n",
      "1500/1500 [==============================] - 3s 2ms/step - loss: 0.0324 - accuracy: 0.1093 - val_loss: 0.0105 - val_accuracy: 0.1128\n",
      "Epoch 7/10\n",
      "1500/1500 [==============================] - 4s 2ms/step - loss: 0.0234 - accuracy: 0.1089 - val_loss: 0.0105 - val_accuracy: 0.1134\n",
      "Epoch 8/10\n",
      "1500/1500 [==============================] - 4s 3ms/step - loss: 0.0195 - accuracy: 0.1110 - val_loss: 0.0105 - val_accuracy: 0.1136\n",
      "Epoch 9/10\n",
      "1500/1500 [==============================] - 4s 3ms/step - loss: 0.0174 - accuracy: 0.1114 - val_loss: 0.0105 - val_accuracy: 0.1136\n",
      "Epoch 10/10\n",
      "1500/1500 [==============================] - 4s 3ms/step - loss: 0.0148 - accuracy: 0.1107 - val_loss: 0.0105 - val_accuracy: 0.1143\n"
     ]
    }
   ],
   "source": [
    "result_model_6 = model_4.fit(x_train_1, y_train_1, epochs=10, validation_data=(x_test_1, y_test_1), validation_split=0.2)"
   ]
  },
  {
   "cell_type": "code",
   "execution_count": 125,
   "metadata": {},
   "outputs": [
    {
     "data": {
      "image/png": "[encoded data removed]",
      "text/plain": [
       "<Figure size 432x288 with 1 Axes>"
      ]
     },
     "metadata": {
      "needs_background": "light"
     },
     "output_type": "display_data"
    }
   ],
   "source": [
    "import matplotlib.pyplot as plt \n",
    "hist_1 = result_model_6.history\n",
    "loss_1 = hist_1['loss']\n",
    "val_loss_1 = hist_1['val_loss']\n",
    "plt.plot(loss_1, label='Training loss')\n",
    "plt.plot(val_loss_1, label='Validation loss')\n",
    "plt.title('Training and validation loss')\n",
    "plt.legend()\n",
    "plt.show()"
   ]
  },
  {
   "cell_type": "code",
   "execution_count": 126,
   "metadata": {},
   "outputs": [
    {
     "data": {
      "text/plain": [
       "<Figure size 432x288 with 0 Axes>"
      ]
     },
     "execution_count": 126,
     "metadata": {},
     "output_type": "execute_result"
    },
    {
     "data": {
      "image/png": "[encoded data removed]",
      "text/plain": [
       "<Figure size 432x288 with 1 Axes>"
      ]
     },
     "metadata": {
      "needs_background": "light"
     },
     "output_type": "display_data"
    },
    {
     "data": {
      "text/plain": [
       "<Figure size 432x288 with 0 Axes>"
      ]
     },
     "metadata": {},
     "output_type": "display_data"
    }
   ],
   "source": [
    "acc_1 = hist_1['accuracy']\n",
    "val_acc_1 = hist_1['val_accuracy']\n",
    "plt.plot(acc_1, label='Training accuracy')\n",
    "plt.plot(val_acc_1, label='Validation accuracy')\n",
    "plt.title('Training and validation accuracy')\n",
    "plt.legend()\n",
    "plt.figure()"
   ]
  },
  {
   "cell_type": "markdown",
   "metadata": {},
   "source": [
    "# Полносвязная нейронная сеть"
   ]
  },
  {
   "cell_type": "code",
   "execution_count": 31,
   "metadata": {},
   "outputs": [],
   "source": [
    "test_mnist_1 = pd.read_csv('fashion-mnist_test.csv')\n",
    "train_mnist_1 = pd.read_csv('fashion-mnist_train.csv')"
   ]
  },
  {
   "cell_type": "code",
   "execution_count": 32,
   "metadata": {},
   "outputs": [],
   "source": [
    "y_test = test_mnist_1.iloc[:, 0]\n",
    "y_train = train_mnist_1.iloc[:, 0]"
   ]
  },
  {
   "cell_type": "code",
   "execution_count": 33,
   "metadata": {},
   "outputs": [],
   "source": [
    "train_mnist_1.drop('label', axis='columns', inplace=True)\n",
    "test_mnist_1.drop('label', axis='columns', inplace=True)"
   ]
  },
  {
   "cell_type": "code",
   "execution_count": 34,
   "metadata": {},
   "outputs": [],
   "source": [
    "x_train = train_mnist_1.iloc[:, :]\n",
    "x_test = test_mnist_1.iloc[:, :]"
   ]
  },
  {
   "cell_type": "code",
   "execution_count": 35,
   "metadata": {},
   "outputs": [],
   "source": [
    "from sklearn.preprocessing import MinMaxScaler\n",
    "normalize = MinMaxScaler()"
   ]
  },
  {
   "cell_type": "code",
   "execution_count": 36,
   "metadata": {},
   "outputs": [],
   "source": [
    "x_train = normalize.fit_transform(x_train)\n",
    "x_test = normalize.fit_transform(x_test)\n",
    "import tensorflow as tf\n",
    "from tensorflow import keras"
   ]
  },
  {
   "cell_type": "code",
   "execution_count": 37,
   "metadata": {},
   "outputs": [],
   "source": [
    "model = keras.models.Sequential([\n",
    "    keras.layers.Dense(300,activation='relu' , input_shape=(784,)),\n",
    "    keras.layers.Dropout(0.5),\n",
    "    keras.layers.Dense(200, activation='relu'),\n",
    "    keras.layers.Dropout(0.3),\n",
    "    keras.layers.Dense(10, activation='softmax')\n",
    "])"
   ]
  },
  {
   "cell_type": "code",
   "execution_count": 38,
   "metadata": {},
   "outputs": [
    {
     "name": "stdout",
     "output_type": "stream",
     "text": [
      "Model: \"sequential_3\"\n",
      "_________________________________________________________________\n",
      "Layer (type)                 Output Shape              Param #   \n",
      "=================================================================\n",
      "dense_8 (Dense)              (None, 300)               235500    \n",
      "_________________________________________________________________\n",
      "dropout_4 (Dropout)          (None, 300)               0         \n",
      "_________________________________________________________________\n",
      "dense_9 (Dense)              (None, 200)               60200     \n",
      "_________________________________________________________________\n",
      "dropout_5 (Dropout)          (None, 200)               0         \n",
      "_________________________________________________________________\n",
      "dense_10 (Dense)             (None, 10)                2010      \n",
      "=================================================================\n",
      "Total params: 297,710\n",
      "Trainable params: 297,710\n",
      "Non-trainable params: 0\n",
      "_________________________________________________________________\n"
     ]
    }
   ],
   "source": [
    "model.summary()"
   ]
  },
  {
   "cell_type": "code",
   "execution_count": 39,
   "metadata": {},
   "outputs": [],
   "source": [
    "model.compile(loss='sparse_categorical_crossentropy',optimizer='adam', metrics=['accuracy'])"
   ]
  },
  {
   "cell_type": "code",
   "execution_count": 40,
   "metadata": {},
   "outputs": [
    {
     "name": "stdout",
     "output_type": "stream",
     "text": [
      "Epoch 1/10\n",
      "422/422 [==============================] - 5s 11ms/step - loss: 0.8919 - accuracy: 0.6814 - val_loss: 0.4374 - val_accuracy: 0.8438\n",
      "Epoch 2/10\n",
      "422/422 [==============================] - 3s 8ms/step - loss: 0.4923 - accuracy: 0.8222 - val_loss: 0.4079 - val_accuracy: 0.8550\n",
      "Epoch 3/10\n",
      "422/422 [==============================] - 3s 7ms/step - loss: 0.4455 - accuracy: 0.8389 - val_loss: 0.3794 - val_accuracy: 0.8638\n",
      "Epoch 4/10\n",
      "422/422 [==============================] - 3s 7ms/step - loss: 0.4170 - accuracy: 0.8477 - val_loss: 0.3749 - val_accuracy: 0.8647\n",
      "Epoch 5/10\n",
      "422/422 [==============================] - 3s 8ms/step - loss: 0.4012 - accuracy: 0.8526 - val_loss: 0.3646 - val_accuracy: 0.8672\n",
      "Epoch 6/10\n",
      "422/422 [==============================] - 3s 7ms/step - loss: 0.3852 - accuracy: 0.8599 - val_loss: 0.3560 - val_accuracy: 0.8728\n",
      "Epoch 7/10\n",
      "422/422 [==============================] - 3s 8ms/step - loss: 0.3695 - accuracy: 0.8669 - val_loss: 0.3495 - val_accuracy: 0.8712\n",
      "Epoch 8/10\n",
      "422/422 [==============================] - 3s 7ms/step - loss: 0.3654 - accuracy: 0.8674 - val_loss: 0.3453 - val_accuracy: 0.8745\n",
      "Epoch 9/10\n",
      "422/422 [==============================] - 3s 8ms/step - loss: 0.3563 - accuracy: 0.8682 - val_loss: 0.3366 - val_accuracy: 0.8775\n",
      "Epoch 10/10\n",
      "422/422 [==============================] - 3s 8ms/step - loss: 0.3547 - accuracy: 0.8687 - val_loss: 0.3292 - val_accuracy: 0.8840\n"
     ]
    }
   ],
   "source": [
    "result_model = model.fit(x_train, y_train, epochs=10, validation_data=(x_test, y_test), validation_split=0.1, batch_size=128)"
   ]
  },
  {
   "cell_type": "code",
   "execution_count": 41,
   "metadata": {},
   "outputs": [
    {
     "data": {
      "image/png": "[encoded data removed]",
      "text/plain": [
       "<Figure size 432x288 with 1 Axes>"
      ]
     },
     "metadata": {
      "needs_background": "light"
     },
     "output_type": "display_data"
    }
   ],
   "source": [
    "import matplotlib.pyplot as plt \n",
    "hist = result_model.history\n",
    "loss = hist['loss']\n",
    "val_loss = hist['val_loss']\n",
    "plt.plot(loss, label='Training loss')\n",
    "plt.plot(val_loss, label='Validation loss')\n",
    "plt.title('Training and validation loss')\n",
    "plt.legend()\n",
    "plt.show()"
   ]
  },
  {
   "cell_type": "code",
   "execution_count": 42,
   "metadata": {},
   "outputs": [
    {
     "data": {
      "text/plain": [
       "<Figure size 432x288 with 0 Axes>"
      ]
     },
     "execution_count": 42,
     "metadata": {},
     "output_type": "execute_result"
    },
    {
     "data": {
      "image/png": "[encoded data removed]",
      "text/plain": [
       "<Figure size 432x288 with 1 Axes>"
      ]
     },
     "metadata": {
      "needs_background": "light"
     },
     "output_type": "display_data"
    },
    {
     "data": {
      "text/plain": [
       "<Figure size 432x288 with 0 Axes>"
      ]
     },
     "metadata": {},
     "output_type": "display_data"
    }
   ],
   "source": [
    "acc = hist['accuracy']\n",
    "val_acc = hist['val_accuracy']\n",
    "plt.plot(acc, label='Training accuracy')\n",
    "plt.plot(val_acc, label='Validation accuracy')\n",
    "plt.title('Training and validation accuracy')\n",
    "plt.legend()\n",
    "plt.figure()"
   ]
  },
  {
   "cell_type": "markdown",
   "metadata": {},
   "source": [
    "# Сверточная нейронная сеть"
   ]
  },
  {
   "cell_type": "code",
   "execution_count": 68,
   "metadata": {},
   "outputs": [],
   "source": [
    "from keras.utils import to_categorical\n",
    "data_test_2 = pd.read_csv('fashion-mnist_test.csv')\n",
    "data_train_2 = pd.read_csv('fashion-mnist_train.csv')\n",
    "X_train_3 = np.array(data_train_2.iloc[:, 1:])\n",
    "X_test_3 = np.array(data_test_2.iloc[:, 1:])\n",
    "y_train_3 = to_categorical(np.array(data_train_2.iloc[:, 0]))\n",
    "y_test_3 = to_categorical(np.array(data_test_2.iloc[:, 0]))"
   ]
  },
  {
   "cell_type": "code",
   "execution_count": 69,
   "metadata": {},
   "outputs": [],
   "source": [
    "x, y = 28, 28\n",
    "X_train_3 = X_train_3.reshape(X_train_3.shape[0], 28, 28, 1)\n",
    "X_test_3 = X_test_3.reshape(X_test_3.shape[0], 28, 28, 1)\n",
    "input_shape = (x, y, 1)\n",
    "\n",
    "X_train_3 = X_train_3.astype('float32')\n",
    "X_train_3 /= 255\n",
    "X_test_3 = X_test_3.astype('float32')\n",
    "X_test_3 /= 255"
   ]
  },
  {
   "cell_type": "code",
   "execution_count": 70,
   "metadata": {},
   "outputs": [],
   "source": [
    "from keras.models import Sequential\n",
    "from keras.layers import Dense, Activation, Dropout, Flatten, Conv2D, MaxPooling2D\n",
    "from keras.layers import BatchNormalization\n"
   ]
  },
  {
   "cell_type": "code",
   "execution_count": 112,
   "metadata": {},
   "outputs": [],
   "source": [
    "model_cnn = Sequential()\n",
    "model_cnn.add(Conv2D(32, kernel_size=(3, 3),\n",
    "                 activation='relu',\n",
    "                 input_shape=input_shape ))\n",
    "model_cnn.add(BatchNormalization())\n",
    "model_cnn.add(MaxPooling2D(pool_size=(2, 2)))\n",
    "model_cnn.add(BatchNormalization())\n",
    "model_cnn.add(Dropout(0.25))\n",
    "model_cnn.add(Conv2D(64, (3, 3), activation='relu'))\n",
    "model_cnn.add(MaxPooling2D(pool_size=(2, 2)))\n",
    "model_cnn.add(Dropout(0.25))\n",
    "model_cnn.add(BatchNormalization())\n",
    "\n",
    "model_cnn.add(Flatten())\n",
    "model_cnn.add(Dense(200, activation='relu'))\n",
    "model_cnn.add(BatchNormalization())\n",
    "model_cnn.add(Dropout(0.5))\n",
    "model_cnn.add(Dense(10, activation='softmax'))\n",
    "\n",
    "\n",
    "\n",
    "model_cnn.compile(loss='categorical_crossentropy', optimizer='adam', metrics=['accuracy'])"
   ]
  },
  {
   "cell_type": "code",
   "execution_count": 113,
   "metadata": {},
   "outputs": [
    {
     "name": "stdout",
     "output_type": "stream",
     "text": [
      "Model: \"sequential_8\"\n",
      "_________________________________________________________________\n",
      "Layer (type)                 Output Shape              Param #   \n",
      "=================================================================\n",
      "conv2d_4 (Conv2D)            (None, 26, 26, 32)        320       \n",
      "_________________________________________________________________\n",
      "batch_normalization_8 (Batch (None, 26, 26, 32)        128       \n",
      "_________________________________________________________________\n",
      "max_pooling2d_4 (MaxPooling2 (None, 13, 13, 32)        0         \n",
      "_________________________________________________________________\n",
      "batch_normalization_9 (Batch (None, 13, 13, 32)        128       \n",
      "_________________________________________________________________\n",
      "dropout_12 (Dropout)         (None, 13, 13, 32)        0         \n",
      "_________________________________________________________________\n",
      "conv2d_5 (Conv2D)            (None, 11, 11, 64)        18496     \n",
      "_________________________________________________________________\n",
      "max_pooling2d_5 (MaxPooling2 (None, 5, 5, 64)          0         \n",
      "_________________________________________________________________\n",
      "dropout_13 (Dropout)         (None, 5, 5, 64)          0         \n",
      "_________________________________________________________________\n",
      "batch_normalization_10 (Batc (None, 5, 5, 64)          256       \n",
      "_________________________________________________________________\n",
      "flatten_2 (Flatten)          (None, 1600)              0         \n",
      "_________________________________________________________________\n",
      "dense_19 (Dense)             (None, 200)               320200    \n",
      "_________________________________________________________________\n",
      "batch_normalization_11 (Batc (None, 200)               800       \n",
      "_________________________________________________________________\n",
      "dropout_14 (Dropout)         (None, 200)               0         \n",
      "_________________________________________________________________\n",
      "dense_20 (Dense)             (None, 10)                2010      \n",
      "=================================================================\n",
      "Total params: 342,338\n",
      "Trainable params: 341,682\n",
      "Non-trainable params: 656\n",
      "_________________________________________________________________\n"
     ]
    }
   ],
   "source": [
    "model_cnn.summary()"
   ]
  },
  {
   "cell_type": "code",
   "execution_count": 88,
   "metadata": {},
   "outputs": [
    {
     "data": {
      "text/plain": [
       "(10000, 28, 28, 1)"
      ]
     },
     "execution_count": 88,
     "metadata": {},
     "output_type": "execute_result"
    }
   ],
   "source": [
    "X_test_3.shape"
   ]
  },
  {
   "cell_type": "code",
   "execution_count": 92,
   "metadata": {},
   "outputs": [
    {
     "data": {
      "text/plain": [
       "(10000, 10)"
      ]
     },
     "execution_count": 92,
     "metadata": {},
     "output_type": "execute_result"
    }
   ],
   "source": [
    "y_test_3.shape"
   ]
  },
  {
   "cell_type": "code",
   "execution_count": 106,
   "metadata": {},
   "outputs": [
    {
     "data": {
      "text/plain": [
       "(60000, 28, 28, 1)"
      ]
     },
     "execution_count": 106,
     "metadata": {},
     "output_type": "execute_result"
    }
   ],
   "source": [
    "X_train_3.shape"
   ]
  },
  {
   "cell_type": "code",
   "execution_count": 111,
   "metadata": {},
   "outputs": [
    {
     "ename": "ValueError",
     "evalue": "cannot reshape array of size 600000 into shape (60000,)",
     "output_type": "error",
     "traceback": [
      "\u001b[1;31m---------------------------------------------------------------------------\u001b[0m",
      "\u001b[1;31mValueError\u001b[0m                                Traceback (most recent call last)",
      "\u001b[1;32m<ipython-input-111-770fa58b5584>\u001b[0m in \u001b[0;36m<module>\u001b[1;34m\u001b[0m\n\u001b[1;32m----> 1\u001b[1;33m \u001b[0my_train_3\u001b[0m\u001b[1;33m.\u001b[0m\u001b[0mreshape\u001b[0m\u001b[1;33m(\u001b[0m\u001b[1;36m60000\u001b[0m\u001b[1;33m,\u001b[0m\u001b[1;33m)\u001b[0m\u001b[1;33m\u001b[0m\u001b[1;33m\u001b[0m\u001b[0m\n\u001b[0m",
      "\u001b[1;31mValueError\u001b[0m: cannot reshape array of size 600000 into shape (60000,)"
     ]
    }
   ],
   "source": [
    "y_train_3.reshape(60000,)"
   ]
  },
  {
   "cell_type": "code",
   "execution_count": null,
   "metadata": {},
   "outputs": [],
   "source": []
  },
  {
   "cell_type": "code",
   "execution_count": 114,
   "metadata": {},
   "outputs": [
    {
     "name": "stdout",
     "output_type": "stream",
     "text": [
      "Epoch 1/10\n",
      "1688/1688 [==============================] - 96s 56ms/step - loss: 0.7439 - accuracy: 0.7530 - val_loss: 0.3458 - val_accuracy: 0.8775\n",
      "Epoch 2/10\n",
      "1688/1688 [==============================] - 96s 57ms/step - loss: 0.3994 - accuracy: 0.8549 - val_loss: 0.3006 - val_accuracy: 0.8922\n",
      "Epoch 3/10\n",
      "1688/1688 [==============================] - 97s 57ms/step - loss: 0.3515 - accuracy: 0.8711 - val_loss: 0.3248 - val_accuracy: 0.8702\n",
      "Epoch 4/10\n",
      "1688/1688 [==============================] - 99s 59ms/step - loss: 0.3257 - accuracy: 0.8809 - val_loss: 0.2665 - val_accuracy: 0.9023\n",
      "Epoch 5/10\n",
      "1688/1688 [==============================] - 103s 61ms/step - loss: 0.3097 - accuracy: 0.8891 - val_loss: 0.2672 - val_accuracy: 0.9018\n",
      "Epoch 6/10\n",
      "1688/1688 [==============================] - 103s 61ms/step - loss: 0.2993 - accuracy: 0.8909 - val_loss: 0.2451 - val_accuracy: 0.9140\n",
      "Epoch 7/10\n",
      "1688/1688 [==============================] - 89s 53ms/step - loss: 0.2780 - accuracy: 0.8979 - val_loss: 0.2392 - val_accuracy: 0.9163\n",
      "Epoch 8/10\n",
      "1688/1688 [==============================] - 100s 59ms/step - loss: 0.2758 - accuracy: 0.8992 - val_loss: 0.2335 - val_accuracy: 0.9162\n",
      "Epoch 9/10\n",
      "1688/1688 [==============================] - 81s 48ms/step - loss: 0.2649 - accuracy: 0.9017 - val_loss: 0.2243 - val_accuracy: 0.9203\n",
      "Epoch 10/10\n",
      "1688/1688 [==============================] - 82s 48ms/step - loss: 0.2545 - accuracy: 0.9051 - val_loss: 0.2286 - val_accuracy: 0.9155\n"
     ]
    }
   ],
   "source": [
    "cnn = model_cnn.fit(X_train_3, y_train_3, epochs=10, validation_data=(X_test_3, y_test_3), validation_split=0.1)\n",
    "\n",
    "#score = model_cnn.evaluate(X_test_3, y_test_3, verbose=0)"
   ]
  },
  {
   "cell_type": "code",
   "execution_count": null,
   "metadata": {},
   "outputs": [],
   "source": []
  },
  {
   "cell_type": "code",
   "execution_count": 115,
   "metadata": {},
   "outputs": [
    {
     "data": {
      "image/png": "[encoded data removed]",
      "text/plain": [
       "<Figure size 432x288 with 1 Axes>"
      ]
     },
     "metadata": {
      "needs_background": "light"
     },
     "output_type": "display_data"
    }
   ],
   "source": [
    "hist_cnn = cnn.history\n",
    "loss_cnn = hist_cnn['loss']\n",
    "val_loss_cnn = hist_cnn['val_loss']\n",
    "plt.plot(loss_cnn, label='Training loss')\n",
    "plt.plot(val_loss_cnn, label='Validation loss')\n",
    "plt.title('Training and validation loss')\n",
    "plt.legend()\n",
    "plt.show()"
   ]
  },
  {
   "cell_type": "code",
   "execution_count": 116,
   "metadata": {},
   "outputs": [
    {
     "data": {
      "text/plain": [
       "<Figure size 432x288 with 0 Axes>"
      ]
     },
     "execution_count": 116,
     "metadata": {},
     "output_type": "execute_result"
    },
    {
     "data": {
      "image/png": "[encoded data removed]",
      "text/plain": [
       "<Figure size 432x288 with 1 Axes>"
      ]
     },
     "metadata": {
      "needs_background": "light"
     },
     "output_type": "display_data"
    },
    {
     "data": {
      "text/plain": [
       "<Figure size 432x288 with 0 Axes>"
      ]
     },
     "metadata": {},
     "output_type": "display_data"
    }
   ],
   "source": [
    "acc_cnn = hist_cnn['accuracy']\n",
    "val_acc_cnn = hist_cnn['val_accuracy']\n",
    "plt.plot(acc_cnn, label='Training accuracy')\n",
    "plt.plot(val_acc_cnn, label='Validation accuracy')\n",
    "plt.title('Training and validation accuracy')\n",
    "plt.legend()\n",
    "plt.figure()"
   ]
  },
  {
   "cell_type": "code",
   "execution_count": null,
   "metadata": {},
   "outputs": [],
   "source": []
  }
 ],
 "metadata": {
  "kernelspec": {
   "display_name": "Python 3",
   "language": "python",
   "name": "python3"
  },
  "language_info": {
   "codemirror_mode": {
    "name": "ipython",
    "version": 3
   },
   "file_extension": ".py",
   "mimetype": "text/x-python",
   "name": "python",
   "nbconvert_exporter": "python",
   "pygments_lexer": "ipython3",
   "version": "3.7.6"
  }
 },
 "nbformat": 4,
 "nbformat_minor": 4
}
